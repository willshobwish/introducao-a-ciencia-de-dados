{
 "cells": [
  {
   "cell_type": "code",
   "execution_count": 1,
   "id": "c93e28e2",
   "metadata": {},
   "outputs": [
    {
     "name": "stderr",
     "output_type": "stream",
     "text": [
      "c:\\Users\\Willian Murayama\\.conda\\envs\\icd\\Lib\\site-packages\\tqdm\\auto.py:21: TqdmWarning: IProgress not found. Please update jupyter and ipywidgets. See https://ipywidgets.readthedocs.io/en/stable/user_install.html\n",
      "  from .autonotebook import tqdm as notebook_tqdm\n"
     ]
    }
   ],
   "source": [
    "import optuna\n",
    "from sklearn.ensemble import RandomForestClassifier\n",
    "from sklearn.model_selection import cross_val_score, train_test_split\n",
    "from sklearn.metrics import classification_report, confusion_matrix\n",
    "from sklearn.preprocessing import LabelEncoder\n",
    "from sklearn.ensemble import RandomForestClassifier\n",
    "from sklearn.model_selection import train_test_split\n",
    "from sklearn.preprocessing import LabelEncoder\n",
    "from sklearn.metrics import accuracy_score, precision_score, recall_score, f1_score, log_loss, classification_report, ConfusionMatrixDisplay,confusion_matrix\n",
    "import pandas as pd\n",
    "import matplotlib.pyplot as plt\n",
    "import seaborn as sns\n",
    "import time"
   ]
  },
  {
   "cell_type": "code",
   "execution_count": 2,
   "id": "5fa03035",
   "metadata": {},
   "outputs": [],
   "source": [
    "df = pd.read_csv(\"predict_students_dropout_and_academic_success.csv\",delimiter=\";\")\n",
    "le = LabelEncoder()\n",
    "df[\"Target\"] = le.fit_transform(df[\"Target\"])"
   ]
  },
  {
   "cell_type": "code",
   "execution_count": 3,
   "id": "9e6659f4",
   "metadata": {},
   "outputs": [
    {
     "name": "stderr",
     "output_type": "stream",
     "text": [
      "[I 2025-05-18 12:27:47,064] A new study created in memory with name: no-name-63f15965-ed8a-45ba-8d52-84f7d82afa50\n",
      "[I 2025-05-18 12:27:51,221] Trial 0 finished with values: [0.7649070233899903, 4.151909112930298] and parameters: {'n_estimators': 137, 'max_depth': 9, 'min_samples_split': 14, 'min_samples_leaf': 2, 'max_features': 'log2'}.\n",
      "[I 2025-05-18 12:28:31,999] Trial 1 finished with values: [0.7711253086567738, 40.77570152282715] and parameters: {'n_estimators': 372, 'max_depth': 10, 'min_samples_split': 13, 'min_samples_leaf': 3, 'max_features': None}.\n",
      "[I 2025-05-18 12:28:40,000] Trial 2 finished with values: [0.761232309671645, 7.9992241859436035] and parameters: {'n_estimators': 339, 'max_depth': 13, 'min_samples_split': 16, 'min_samples_leaf': 17, 'max_features': 'sqrt'}.\n",
      "[I 2025-05-18 12:28:58,367] Trial 3 finished with values: [0.7646257361813664, 18.36554789543152] and parameters: {'n_estimators': 253, 'max_depth': 24, 'min_samples_split': 20, 'min_samples_leaf': 20, 'max_features': None}.\n",
      "[I 2025-05-18 12:28:59,711] Trial 4 finished with values: [0.7530370228306124, 1.3399429321289062] and parameters: {'n_estimators': 61, 'max_depth': 38, 'min_samples_split': 9, 'min_samples_leaf': 20, 'max_features': 'log2'}.\n",
      "[I 2025-05-18 12:29:02,113] Trial 5 finished with values: [0.7581253645945708, 2.399548292160034] and parameters: {'n_estimators': 111, 'max_depth': 44, 'min_samples_split': 5, 'min_samples_leaf': 20, 'max_features': 'sqrt'}.\n",
      "[I 2025-05-18 12:29:11,650] Trial 6 finished with values: [0.7603840529331383, 9.535086631774902] and parameters: {'n_estimators': 423, 'max_depth': 15, 'min_samples_split': 9, 'min_samples_leaf': 17, 'max_features': 'log2'}.\n",
      "[I 2025-05-18 12:29:19,505] Trial 7 finished with values: [0.7680155666898408, 7.85319709777832] and parameters: {'n_estimators': 311, 'max_depth': 14, 'min_samples_split': 11, 'min_samples_leaf': 6, 'max_features': 'log2'}.\n",
      "[I 2025-05-18 12:29:22,064] Trial 8 finished with values: [0.7697140779453248, 2.5560717582702637] and parameters: {'n_estimators': 78, 'max_depth': 33, 'min_samples_split': 12, 'min_samples_leaf': 8, 'max_features': 'sqrt'}.\n",
      "[I 2025-05-18 12:29:50,618] Trial 9 finished with values: [0.7666035368670039, 28.551948070526123] and parameters: {'n_estimators': 417, 'max_depth': 44, 'min_samples_split': 6, 'min_samples_leaf': 18, 'max_features': None}.\n",
      "[I 2025-05-18 12:30:26,241] Trial 10 finished with values: [0.7702778510296551, 35.62030363082886] and parameters: {'n_estimators': 406, 'max_depth': 34, 'min_samples_split': 8, 'min_samples_leaf': 7, 'max_features': None}.\n",
      "[I 2025-05-18 12:30:26,706] Trial 11 finished with values: [0.7643424511942719, 0.46300649642944336] and parameters: {'n_estimators': 18, 'max_depth': 28, 'min_samples_split': 14, 'min_samples_leaf': 12, 'max_features': 'sqrt'}.\n",
      "[I 2025-05-18 12:30:49,385] Trial 12 finished with values: [0.7389091330440549, 22.67638874053955] and parameters: {'n_estimators': 426, 'max_depth': 3, 'min_samples_split': 3, 'min_samples_leaf': 1, 'max_features': None}.\n",
      "[I 2025-05-18 12:30:58,688] Trial 13 finished with values: [0.737496703665524, 9.29631781578064] and parameters: {'n_estimators': 260, 'max_depth': 3, 'min_samples_split': 7, 'min_samples_leaf': 5, 'max_features': None}.\n",
      "[I 2025-05-18 12:31:18,400] Trial 14 finished with values: [0.7671685086184163, 19.709038019180298] and parameters: {'n_estimators': 253, 'max_depth': 8, 'min_samples_split': 16, 'min_samples_leaf': 19, 'max_features': None}.\n",
      "[I 2025-05-18 12:31:45,349] Trial 15 finished with values: [0.7663214505469917, 26.930554151535034] and parameters: {'n_estimators': 332, 'max_depth': 39, 'min_samples_split': 2, 'min_samples_leaf': 19, 'max_features': None}.\n",
      "[I 2025-05-18 12:31:49,399] Trial 16 finished with values: [0.7651891097100025, 4.047596216201782] and parameters: {'n_estimators': 198, 'max_depth': 33, 'min_samples_split': 13, 'min_samples_leaf': 15, 'max_features': 'sqrt'}.\n",
      "[I 2025-05-18 12:31:56,316] Trial 17 finished with values: [0.7654723946970968, 6.916037559509277] and parameters: {'n_estimators': 79, 'max_depth': 20, 'min_samples_split': 2, 'min_samples_leaf': 19, 'max_features': None}.\n",
      "[I 2025-05-18 12:31:59,192] Trial 18 finished with values: [0.7663206514356037, 2.8733372688293457] and parameters: {'n_estimators': 104, 'max_depth': 42, 'min_samples_split': 8, 'min_samples_leaf': 6, 'max_features': 'sqrt'}.\n",
      "[I 2025-05-18 12:32:30,685] Trial 19 finished with values: [0.7674517936055107, 31.489662408828735] and parameters: {'n_estimators': 426, 'max_depth': 39, 'min_samples_split': 19, 'min_samples_leaf': 17, 'max_features': None}.\n",
      "[I 2025-05-18 12:32:35,683] Trial 20 finished with values: [0.7615159942144336, 4.996124267578125] and parameters: {'n_estimators': 220, 'max_depth': 20, 'min_samples_split': 2, 'min_samples_leaf': 13, 'max_features': 'sqrt'}.\n",
      "[I 2025-05-18 12:32:39,419] Trial 21 finished with values: [0.7598210789601963, 3.7342417240142822] and parameters: {'n_estimators': 183, 'max_depth': 50, 'min_samples_split': 15, 'min_samples_leaf': 13, 'max_features': 'sqrt'}.\n",
      "[I 2025-05-18 12:33:01,529] Trial 22 finished with values: [0.7668864222984042, 22.108095169067383] and parameters: {'n_estimators': 351, 'max_depth': 7, 'min_samples_split': 14, 'min_samples_leaf': 16, 'max_features': None}.\n",
      "[I 2025-05-18 12:33:23,838] Trial 23 finished with values: [0.7691479075268302, 22.307183504104614] and parameters: {'n_estimators': 257, 'max_depth': 9, 'min_samples_split': 15, 'min_samples_leaf': 2, 'max_features': None}.\n",
      "[I 2025-05-18 12:33:28,987] Trial 24 finished with values: [0.7682964543427708, 5.147213935852051] and parameters: {'n_estimators': 208, 'max_depth': 13, 'min_samples_split': 2, 'min_samples_leaf': 11, 'max_features': 'sqrt'}.\n",
      "[I 2025-05-18 12:33:44,568] Trial 25 finished with values: [0.7697112810554663, 15.578927040100098] and parameters: {'n_estimators': 204, 'max_depth': 31, 'min_samples_split': 13, 'min_samples_leaf': 15, 'max_features': None}.\n",
      "[I 2025-05-18 12:33:52,779] Trial 26 finished with values: [0.7643412525271898, 8.208285570144653] and parameters: {'n_estimators': 382, 'max_depth': 10, 'min_samples_split': 11, 'min_samples_leaf': 11, 'max_features': 'sqrt'}.\n",
      "[I 2025-05-18 12:34:15,421] Trial 27 finished with values: [0.7694303934025364, 22.639136791229248] and parameters: {'n_estimators': 194, 'max_depth': 39, 'min_samples_split': 3, 'min_samples_leaf': 7, 'max_features': None}.\n",
      "[I 2025-05-18 12:35:14,354] Trial 28 finished with values: [0.7688630243169595, 58.93156814575195] and parameters: {'n_estimators': 413, 'max_depth': 41, 'min_samples_split': 19, 'min_samples_leaf': 1, 'max_features': None}.\n",
      "[I 2025-05-18 12:35:16,313] Trial 29 finished with values: [0.7612323096716451, 1.955026388168335] and parameters: {'n_estimators': 78, 'max_depth': 7, 'min_samples_split': 16, 'min_samples_leaf': 12, 'max_features': 'sqrt'}.\n",
      "[I 2025-05-18 12:35:27,520] Trial 30 finished with values: [0.765754880572803, 11.204914569854736] and parameters: {'n_estimators': 315, 'max_depth': 17, 'min_samples_split': 10, 'min_samples_leaf': 10, 'max_features': 'log2'}.\n",
      "[I 2025-05-18 12:35:36,675] Trial 31 finished with values: [0.761231111004563, 9.152743339538574] and parameters: {'n_estimators': 382, 'max_depth': 39, 'min_samples_split': 7, 'min_samples_leaf': 18, 'max_features': 'sqrt'}.\n",
      "[I 2025-05-18 12:35:39,590] Trial 32 finished with values: [0.7671689081741103, 2.9115471839904785] and parameters: {'n_estimators': 104, 'max_depth': 30, 'min_samples_split': 19, 'min_samples_leaf': 7, 'max_features': 'sqrt'}.\n",
      "[I 2025-05-18 12:36:02,227] Trial 33 finished with values: [0.7694291947354541, 22.634443283081055] and parameters: {'n_estimators': 299, 'max_depth': 50, 'min_samples_split': 3, 'min_samples_leaf': 12, 'max_features': None}.\n",
      "[I 2025-05-18 12:36:11,198] Trial 34 finished with values: [0.7719719671725042, 8.969146013259888] and parameters: {'n_estimators': 353, 'max_depth': 40, 'min_samples_split': 19, 'min_samples_leaf': 1, 'max_features': 'sqrt'}.\n",
      "[I 2025-05-18 12:36:40,064] Trial 35 finished with values: [0.7699949655982546, 28.86429452896118] and parameters: {'n_estimators': 404, 'max_depth': 44, 'min_samples_split': 20, 'min_samples_leaf': 13, 'max_features': None}.\n",
      "[I 2025-05-18 12:36:43,614] Trial 36 finished with values: [0.7646225397358138, 3.5478579998016357] and parameters: {'n_estimators': 184, 'max_depth': 39, 'min_samples_split': 16, 'min_samples_leaf': 13, 'max_features': 'log2'}.\n",
      "[I 2025-05-18 12:36:57,998] Trial 37 finished with values: [0.7682992512326294, 14.382354974746704] and parameters: {'n_estimators': 200, 'max_depth': 21, 'min_samples_split': 7, 'min_samples_leaf': 17, 'max_features': None}.\n",
      "[I 2025-05-18 12:37:04,453] Trial 38 finished with values: [0.7688630243169595, 6.4533162117004395] and parameters: {'n_estimators': 266, 'max_depth': 13, 'min_samples_split': 19, 'min_samples_leaf': 6, 'max_features': 'log2'}.\n",
      "[I 2025-05-18 12:37:07,916] Trial 39 finished with values: [0.7617968818673635, 3.4606964588165283] and parameters: {'n_estimators': 152, 'max_depth': 29, 'min_samples_split': 19, 'min_samples_leaf': 18, 'max_features': 'log2'}.\n",
      "[I 2025-05-18 12:37:15,110] Trial 40 finished with values: [0.7680139684670646, 7.191868543624878] and parameters: {'n_estimators': 302, 'max_depth': 38, 'min_samples_split': 5, 'min_samples_leaf': 8, 'max_features': 'log2'}.\n",
      "[I 2025-05-18 12:37:21,541] Trial 41 finished with values: [0.7714069954210917, 6.428323030471802] and parameters: {'n_estimators': 62, 'max_depth': 36, 'min_samples_split': 6, 'min_samples_leaf': 5, 'max_features': None}.\n",
      "[I 2025-05-18 12:37:32,390] Trial 42 finished with values: [0.7663190532128272, 10.847150802612305] and parameters: {'n_estimators': 421, 'max_depth': 50, 'min_samples_split': 13, 'min_samples_leaf': 11, 'max_features': 'log2'}.\n",
      "[I 2025-05-18 12:37:35,900] Trial 43 finished with values: [0.7598214785158903, 3.5070254802703857] and parameters: {'n_estimators': 130, 'max_depth': 15, 'min_samples_split': 14, 'min_samples_leaf': 18, 'max_features': 'sqrt'}.\n",
      "[I 2025-05-18 12:37:41,469] Trial 44 finished with values: [0.7612339078944215, 5.564767360687256] and parameters: {'n_estimators': 43, 'max_depth': 13, 'min_samples_split': 13, 'min_samples_leaf': 1, 'max_features': None}.\n",
      "[I 2025-05-18 12:37:49,598] Trial 45 finished with values: [0.7708408250025971, 8.12438702583313] and parameters: {'n_estimators': 298, 'max_depth': 38, 'min_samples_split': 12, 'min_samples_leaf': 1, 'max_features': 'log2'}.\n",
      "[I 2025-05-18 12:37:52,035] Trial 46 finished with values: [0.7598206794045022, 2.435936212539673] and parameters: {'n_estimators': 126, 'max_depth': 13, 'min_samples_split': 7, 'min_samples_leaf': 16, 'max_features': 'sqrt'}.\n",
      "[I 2025-05-18 12:38:22,553] Trial 47 finished with values: [0.7697132788339367, 30.51597762107849] and parameters: {'n_estimators': 323, 'max_depth': 26, 'min_samples_split': 18, 'min_samples_leaf': 6, 'max_features': None}.\n",
      "[I 2025-05-18 12:38:27,264] Trial 48 finished with values: [0.7663202518799095, 4.708540916442871] and parameters: {'n_estimators': 168, 'max_depth': 23, 'min_samples_split': 3, 'min_samples_leaf': 5, 'max_features': 'sqrt'}.\n",
      "[I 2025-05-18 12:38:31,934] Trial 49 finished with values: [0.7374983018883003, 4.667870044708252] and parameters: {'n_estimators': 308, 'max_depth': 4, 'min_samples_split': 3, 'min_samples_leaf': 13, 'max_features': 'sqrt'}.\n"
     ]
    },
    {
     "name": "stdout",
     "output_type": "stream",
     "text": [
      "\n",
      "Best Hyperparameters: FrozenTrial(number=34, state=1, values=[0.7719719671725042, 8.969146013259888], datetime_start=datetime.datetime(2025, 5, 18, 12, 36, 2, 228385), datetime_complete=datetime.datetime(2025, 5, 18, 12, 36, 11, 198481), params={'n_estimators': 353, 'max_depth': 40, 'min_samples_split': 19, 'min_samples_leaf': 1, 'max_features': 'sqrt'}, user_attrs={}, system_attrs={'NSGAIISampler:generation': 0}, intermediate_values={}, distributions={'n_estimators': IntDistribution(high=450, log=False, low=10, step=1), 'max_depth': IntDistribution(high=50, log=False, low=3, step=1), 'min_samples_split': IntDistribution(high=20, log=False, low=2, step=1), 'min_samples_leaf': IntDistribution(high=20, log=False, low=1, step=1), 'max_features': CategoricalDistribution(choices=('sqrt', 'log2', None))}, trial_id=34, value=None)\n"
     ]
    },
    {
     "ename": "ModuleNotFoundError",
     "evalue": "No module named 'matplotlib_inline'",
     "output_type": "error",
     "traceback": [
      "\u001b[31m---------------------------------------------------------------------------\u001b[39m",
      "\u001b[31mModuleNotFoundError\u001b[39m                       Traceback (most recent call last)",
      "\u001b[36mCell\u001b[39m\u001b[36m \u001b[39m\u001b[32mIn[3]\u001b[39m\u001b[32m, line 40\u001b[39m\n\u001b[32m     38\u001b[39m cm = confusion_matrix(y_test, y_pred)\n\u001b[32m     39\u001b[39m disp = ConfusionMatrixDisplay(confusion_matrix=cm, display_labels=le.inverse_transform(best_clf.classes_))\n\u001b[32m---> \u001b[39m\u001b[32m40\u001b[39m \u001b[43mdisp\u001b[49m\u001b[43m.\u001b[49m\u001b[43mplot\u001b[49m\u001b[43m(\u001b[49m\u001b[43m)\u001b[49m\n\u001b[32m     41\u001b[39m plt.title(\u001b[33m\"\u001b[39m\u001b[33mConfusion Matrix\u001b[39m\u001b[33m\"\u001b[39m)\n\u001b[32m     42\u001b[39m plt.show()\n",
      "\u001b[36mFile \u001b[39m\u001b[32mc:\\Users\\Willian Murayama\\.conda\\envs\\icd\\Lib\\site-packages\\sklearn\\metrics\\_plot\\confusion_matrix.py:140\u001b[39m, in \u001b[36mplot\u001b[39m\u001b[34m(self, include_values, cmap, xticks_rotation, values_format, ax, colorbar, im_kw, text_kw)\u001b[39m\n",
      "\u001b[36mFile \u001b[39m\u001b[32mc:\\Users\\Willian Murayama\\.conda\\envs\\icd\\Lib\\site-packages\\matplotlib\\pyplot.py:1769\u001b[39m, in \u001b[36msubplots\u001b[39m\u001b[34m(nrows, ncols, sharex, sharey, squeeze, width_ratios, height_ratios, subplot_kw, gridspec_kw, **fig_kw)\u001b[39m\n",
      "\u001b[36mFile \u001b[39m\u001b[32mc:\\Users\\Willian Murayama\\.conda\\envs\\icd\\Lib\\site-packages\\matplotlib\\pyplot.py:1042\u001b[39m, in \u001b[36mfigure\u001b[39m\u001b[34m(num, figsize, dpi, facecolor, edgecolor, frameon, FigureClass, clear, **kwargs)\u001b[39m\n",
      "\u001b[36mFile \u001b[39m\u001b[32mc:\\Users\\Willian Murayama\\.conda\\envs\\icd\\Lib\\site-packages\\matplotlib\\pyplot.py:551\u001b[39m, in \u001b[36mnew_figure_manager\u001b[39m\u001b[34m(*args, **kwargs)\u001b[39m\n",
      "\u001b[36mFile \u001b[39m\u001b[32mc:\\Users\\Willian Murayama\\.conda\\envs\\icd\\Lib\\site-packages\\matplotlib\\pyplot.py:528\u001b[39m, in \u001b[36m_warn_if_gui_out_of_main_thread\u001b[39m\u001b[34m()\u001b[39m\n",
      "\u001b[36mFile \u001b[39m\u001b[32mc:\\Users\\Willian Murayama\\.conda\\envs\\icd\\Lib\\site-packages\\matplotlib\\pyplot.py:369\u001b[39m, in \u001b[36m_get_backend_mod\u001b[39m\u001b[34m()\u001b[39m\n",
      "\u001b[36mFile \u001b[39m\u001b[32mc:\\Users\\Willian Murayama\\.conda\\envs\\icd\\Lib\\site-packages\\matplotlib\\pyplot.py:425\u001b[39m, in \u001b[36mswitch_backend\u001b[39m\u001b[34m(newbackend)\u001b[39m\n",
      "\u001b[36mFile \u001b[39m\u001b[32mc:\\Users\\Willian Murayama\\.conda\\envs\\icd\\Lib\\site-packages\\matplotlib\\backends\\registry.py:317\u001b[39m, in \u001b[36mload_backend_module\u001b[39m\u001b[34m(self, backend)\u001b[39m\n",
      "\u001b[36mFile \u001b[39m\u001b[32mc:\\Users\\Willian Murayama\\.conda\\envs\\icd\\Lib\\importlib\\__init__.py:88\u001b[39m, in \u001b[36mimport_module\u001b[39m\u001b[34m(name, package)\u001b[39m\n\u001b[32m     86\u001b[39m     \u001b[38;5;28;01mfor\u001b[39;00m character \u001b[38;5;129;01min\u001b[39;00m name:\n\u001b[32m     87\u001b[39m         \u001b[38;5;28;01mif\u001b[39;00m character != \u001b[33m'\u001b[39m\u001b[33m.\u001b[39m\u001b[33m'\u001b[39m:\n\u001b[32m---> \u001b[39m\u001b[32m88\u001b[39m             \u001b[38;5;28;01mbreak\u001b[39;00m\n\u001b[32m     89\u001b[39m         level += \u001b[32m1\u001b[39m\n\u001b[32m     90\u001b[39m \u001b[38;5;28;01mreturn\u001b[39;00m _bootstrap._gcd_import(name[level:], package, level)\n",
      "\u001b[36mFile \u001b[39m\u001b[32m<frozen importlib._bootstrap>:1387\u001b[39m, in \u001b[36m_gcd_import\u001b[39m\u001b[34m(name, package, level)\u001b[39m\n",
      "\u001b[36mFile \u001b[39m\u001b[32m<frozen importlib._bootstrap>:1360\u001b[39m, in \u001b[36m_find_and_load\u001b[39m\u001b[34m(name, import_)\u001b[39m\n",
      "\u001b[36mFile \u001b[39m\u001b[32m<frozen importlib._bootstrap>:1310\u001b[39m, in \u001b[36m_find_and_load_unlocked\u001b[39m\u001b[34m(name, import_)\u001b[39m\n",
      "\u001b[36mFile \u001b[39m\u001b[32m<frozen importlib._bootstrap>:488\u001b[39m, in \u001b[36m_call_with_frames_removed\u001b[39m\u001b[34m(f, *args, **kwds)\u001b[39m\n",
      "\u001b[36mFile \u001b[39m\u001b[32m<frozen importlib._bootstrap>:1387\u001b[39m, in \u001b[36m_gcd_import\u001b[39m\u001b[34m(name, package, level)\u001b[39m\n",
      "\u001b[36mFile \u001b[39m\u001b[32m<frozen importlib._bootstrap>:1360\u001b[39m, in \u001b[36m_find_and_load\u001b[39m\u001b[34m(name, import_)\u001b[39m\n",
      "\u001b[36mFile \u001b[39m\u001b[32m<frozen importlib._bootstrap>:1324\u001b[39m, in \u001b[36m_find_and_load_unlocked\u001b[39m\u001b[34m(name, import_)\u001b[39m\n",
      "\u001b[31mModuleNotFoundError\u001b[39m: No module named 'matplotlib_inline'"
     ]
    }
   ],
   "source": [
    "# Assume df has features and df_encoded[\"Target\"] is the encoded label\n",
    "X = df.iloc[:,:-1]\n",
    "y = df[\"Target\"]\n",
    "\n",
    "# Optional: split to test performance later\n",
    "X_train, X_test, y_train, y_test = train_test_split(X, y, test_size=0.2, random_state=42)\n",
    "\n",
    "# Define the Optuna objective function\n",
    "def objective(trial):\n",
    "    params = {\n",
    "        \"n_estimators\": trial.suggest_int(\"n_estimators\", 10, 450),\n",
    "        \"max_depth\": trial.suggest_int(\"max_depth\", 3, 50),\n",
    "        \"min_samples_split\": trial.suggest_int(\"min_samples_split\", 2, 20),\n",
    "        \"min_samples_leaf\": trial.suggest_int(\"min_samples_leaf\", 1, 20),\n",
    "        \"max_features\": trial.suggest_categorical(\"max_features\", [\"sqrt\", \"log2\", None])\n",
    "    }\n",
    "\n",
    "    clf = RandomForestClassifier(**params, random_state=42)\n",
    "    # Cross-validate on training data\n",
    "    start = time.time()\n",
    "    score = cross_val_score(clf, X_train, y_train, cv=5, scoring=\"accuracy\").mean()\n",
    "    duration = time.time() - start\n",
    "    return score, duration\n",
    "\n",
    "# Run the Optuna study\n",
    "study = optuna.create_study(directions=[\"maximize\",\"minimize\"])\n",
    "study.optimize(objective, n_trials=50)\n",
    "\n",
    "# Print best parameters\n",
    "best_trial = sorted(study.trials, key=lambda t: (-t.values[0], t.values[1]))[0]\n",
    "print(\"\\nBest Hyperparameters:\", best_trial)\n",
    "\n",
    "# Train final model on best parameters\n",
    "best_clf = RandomForestClassifier(**best_trial.params, random_state=42)\n",
    "best_clf.fit(X_train, y_train)\n",
    "y_pred = best_clf.predict(X=X_test)\n",
    "# Confusion Matrix\n",
    "cm = confusion_matrix(y_test, y_pred)\n",
    "disp = ConfusionMatrixDisplay(confusion_matrix=cm, display_labels=le.inverse_transform(best_clf.classes_))\n",
    "disp.plot()\n",
    "plt.title(\"Confusion Matrix\")\n",
    "plt.show()\n",
    "\n",
    "# Per-class precision, recall, F1-score\n",
    "\n",
    "print(\"\\nClassification Report (per-class precision, recall, F1):\")\n",
    "# Inverse transform encoded labels back to original\n",
    "y_test_labels = le.inverse_transform(y_test)\n",
    "y_pred_labels = le.inverse_transform(y_pred)\n",
    "\n",
    "# Generate report using original class labels\n",
    "print(classification_report(y_test_labels, y_pred_labels, digits=4))"
   ]
  }
 ],
 "metadata": {
  "kernelspec": {
   "display_name": "Python 3",
   "language": "python",
   "name": "python3"
  },
  "language_info": {
   "codemirror_mode": {
    "name": "ipython",
    "version": 3
   },
   "file_extension": ".py",
   "mimetype": "text/x-python",
   "name": "python",
   "nbconvert_exporter": "python",
   "pygments_lexer": "ipython3",
   "version": "3.13.2"
  }
 },
 "nbformat": 4,
 "nbformat_minor": 5
}
